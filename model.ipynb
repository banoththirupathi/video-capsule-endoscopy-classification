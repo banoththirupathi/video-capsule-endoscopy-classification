{
 "cells": [
  {
   "cell_type": "code",
   "execution_count": null,
   "metadata": {},
   "outputs": [],
   "source": [
    "import os\n",
    "import torch\n",
    "import pandas as pd\n",
    "from torch.utils.data import Dataset, DataLoader\n",
    "from torchvision import transforms\n",
    "from PIL import Image\n",
    "import torch.nn as nn\n",
    "import torchvision.models as models\n",
    "from sklearn.metrics import accuracy_score\n",
    "import time\n",
    "from sklearn.metrics import classification_report, confusion_matrix\n",
    "import seaborn as sns\n",
    "import matplotlib.pyplot as plt\n",
    "from sklearn.metrics import roc_auc_score\n",
    "import numpy as np\n",
    "import torch.nn.functional as F"
   ]
  },
  {
   "cell_type": "code",
   "execution_count": null,
   "metadata": {},
   "outputs": [],
   "source": [
    "training_df = pd.read_excel(\"/kaggle/input/capsule-vision-2024-challenge/Dataset/training/training_data.xlsx\")\n",
    "validation_df = pd.read_excel(\"/kaggle/input/capsule-vision-2024-challenge/Dataset/validation/validation_data.xlsx\")\n",
    "DATASET_ROOT = \"/kaggle/input/capsule-vision-2024-challenge/Dataset\""
   ]
  },
  {
   "cell_type": "code",
   "execution_count": null,
   "metadata": {},
   "outputs": [],
   "source": [
    "def get_class_label(row):\n",
    "    classes = ['Angioectasia', 'Bleeding', 'Erosion', 'Erythema',\n",
    "               'Foreign Body', 'Lymphangiectasia', 'Normal', 'Polyp',\n",
    "               'Ulcer', 'Worms']\n",
    "    return classes.index(next(cls for cls in classes if row[cls] == 1))"
   ]
  },
  {
   "cell_type": "code",
   "execution_count": null,
   "metadata": {},
   "outputs": [],
   "source": [
    "class VCEImageDataset(Dataset):\n",
    "    def __init__(self, dataframe, root_dir, transform=None):\n",
    "        self.df = dataframe.copy()\n",
    "        self.root_dir = root_dir\n",
    "        self.transform = transform\n",
    "        self.df['label'] = self.df.apply(get_class_label, axis=1)\n",
    "\n",
    "    def __len__(self):\n",
    "        return len(self.df)\n",
    "\n",
    "    def __getitem__(self, idx):\n",
    "        img_path = os.path.join(self.root_dir, self.df.iloc[idx]['image_path'].replace('\\\\', '/'))\n",
    "        image = Image.open(img_path).convert(\"RGB\")\n",
    "        label = self.df.iloc[idx]['label']\n",
    "        if self.transform:\n",
    "            image = self.transform(image)\n",
    "        return image, label"
   ]
  },
  {
   "cell_type": "code",
   "execution_count": null,
   "metadata": {},
   "outputs": [],
   "source": [
    "image_transforms = transforms.Compose([\n",
    "    transforms.Resize((224, 224)),\n",
    "    transforms.RandomHorizontalFlip(),\n",
    "    transforms.RandomRotation(15),\n",
    "    transforms.ColorJitter(brightness=0.2, contrast=0.2),\n",
    "    transforms.ToTensor(),\n",
    "    transforms.Normalize(mean=[0.485, 0.456, 0.406],\n",
    "                         std=[0.229, 0.224, 0.225])\n",
    "])"
   ]
  },
  {
   "cell_type": "code",
   "execution_count": null,
   "metadata": {},
   "outputs": [],
   "source": [
    "train_dataset = VCEImageDataset(training_df, DATASET_ROOT, transform=image_transforms)\n",
    "val_dataset = VCEImageDataset(validation_df, DATASET_ROOT, transform=image_transforms)\n",
    "\n",
    "train_loader = DataLoader(train_dataset, batch_size=32, shuffle=True, num_workers=2)\n",
    "val_loader = DataLoader(val_dataset, batch_size=32, shuffle=False, num_workers=2)"
   ]
  },
  {
   "cell_type": "code",
   "execution_count": null,
   "metadata": {
    "execution": {
     "iopub.execute_input": "2025-03-22T16:54:35.764798Z",
     "iopub.status.busy": "2025-03-22T16:54:35.764492Z",
     "iopub.status.idle": "2025-03-22T16:54:45.702822Z",
     "shell.execute_reply": "2025-03-22T16:54:45.701968Z",
     "shell.execute_reply.started": "2025-03-22T16:54:35.764778Z"
    },
    "trusted": true
   },
   "outputs": [
    {
     "name": "stdout",
     "output_type": "stream",
     "text": [
      "Image batch shape: torch.Size([32, 3, 224, 224])\n",
      "Label batch shape: torch.Size([32])\n"
     ]
    }
   ],
   "source": [
    "for images, labels in train_loader:\n",
    "    print(f\"Image batch shape: {images.shape}\")\n",
    "    print(f\"Label batch shape: {labels.shape}\")\n",
    "    break"
   ]
  },
  {
   "cell_type": "code",
   "execution_count": null,
   "metadata": {
    "execution": {
     "iopub.execute_input": "2025-03-22T16:56:15.061183Z",
     "iopub.status.busy": "2025-03-22T16:56:15.060459Z",
     "iopub.status.idle": "2025-03-22T16:56:15.962358Z",
     "shell.execute_reply": "2025-03-22T16:56:15.961511Z",
     "shell.execute_reply.started": "2025-03-22T16:56:15.061150Z"
    },
    "trusted": true
   },
   "outputs": [
    {
     "name": "stderr",
     "output_type": "stream",
     "text": [
      "/usr/local/lib/python3.10/dist-packages/torchvision/models/_utils.py:208: UserWarning: The parameter 'pretrained' is deprecated since 0.13 and may be removed in the future, please use 'weights' instead.\n",
      "  warnings.warn(\n",
      "/usr/local/lib/python3.10/dist-packages/torchvision/models/_utils.py:223: UserWarning: Arguments other than a weight enum or `None` for 'weights' are deprecated since 0.13 and may be removed in the future. The current behavior is equivalent to passing `weights=ResNet18_Weights.IMAGENET1K_V1`. You can also use `weights=ResNet18_Weights.DEFAULT` to get the most up-to-date weights.\n",
      "  warnings.warn(msg)\n",
      "Downloading: \"https://download.pytorch.org/models/resnet18-f37072fd.pth\" to /root/.cache/torch/hub/checkpoints/resnet18-f37072fd.pth\n",
      "100%|██████████| 44.7M/44.7M [00:00<00:00, 183MB/s] \n"
     ]
    },
    {
     "name": "stdout",
     "output_type": "stream",
     "text": [
      "ResNet(\n",
      "  (conv1): Conv2d(3, 64, kernel_size=(7, 7), stride=(2, 2), padding=(3, 3), bias=False)\n",
      "  (bn1): BatchNorm2d(64, eps=1e-05, momentum=0.1, affine=True, track_running_stats=True)\n",
      "  (relu): ReLU(inplace=True)\n",
      "  (maxpool): MaxPool2d(kernel_size=3, stride=2, padding=1, dilation=1, ceil_mode=False)\n",
      "  (layer1): Sequential(\n",
      "    (0): BasicBlock(\n",
      "      (conv1): Conv2d(64, 64, kernel_size=(3, 3), stride=(1, 1), padding=(1, 1), bias=False)\n",
      "      (bn1): BatchNorm2d(64, eps=1e-05, momentum=0.1, affine=True, track_running_stats=True)\n",
      "      (relu): ReLU(inplace=True)\n",
      "      (conv2): Conv2d(64, 64, kernel_size=(3, 3), stride=(1, 1), padding=(1, 1), bias=False)\n",
      "      (bn2): BatchNorm2d(64, eps=1e-05, momentum=0.1, affine=True, track_running_stats=True)\n",
      "    )\n",
      "    (1): BasicBlock(\n",
      "      (conv1): Conv2d(64, 64, kernel_size=(3, 3), stride=(1, 1), padding=(1, 1), bias=False)\n",
      "      (bn1): BatchNorm2d(64, eps=1e-05, momentum=0.1, affine=True, track_running_stats=True)\n",
      "      (relu): ReLU(inplace=True)\n",
      "      (conv2): Conv2d(64, 64, kernel_size=(3, 3), stride=(1, 1), padding=(1, 1), bias=False)\n",
      "      (bn2): BatchNorm2d(64, eps=1e-05, momentum=0.1, affine=True, track_running_stats=True)\n",
      "    )\n",
      "  )\n",
      "  (layer2): Sequential(\n",
      "    (0): BasicBlock(\n",
      "      (conv1): Conv2d(64, 128, kernel_size=(3, 3), stride=(2, 2), padding=(1, 1), bias=False)\n",
      "      (bn1): BatchNorm2d(128, eps=1e-05, momentum=0.1, affine=True, track_running_stats=True)\n",
      "      (relu): ReLU(inplace=True)\n",
      "      (conv2): Conv2d(128, 128, kernel_size=(3, 3), stride=(1, 1), padding=(1, 1), bias=False)\n",
      "      (bn2): BatchNorm2d(128, eps=1e-05, momentum=0.1, affine=True, track_running_stats=True)\n",
      "      (downsample): Sequential(\n",
      "        (0): Conv2d(64, 128, kernel_size=(1, 1), stride=(2, 2), bias=False)\n",
      "        (1): BatchNorm2d(128, eps=1e-05, momentum=0.1, affine=True, track_running_stats=True)\n",
      "      )\n",
      "    )\n",
      "    (1): BasicBlock(\n",
      "      (conv1): Conv2d(128, 128, kernel_size=(3, 3), stride=(1, 1), padding=(1, 1), bias=False)\n",
      "      (bn1): BatchNorm2d(128, eps=1e-05, momentum=0.1, affine=True, track_running_stats=True)\n",
      "      (relu): ReLU(inplace=True)\n",
      "      (conv2): Conv2d(128, 128, kernel_size=(3, 3), stride=(1, 1), padding=(1, 1), bias=False)\n",
      "      (bn2): BatchNorm2d(128, eps=1e-05, momentum=0.1, affine=True, track_running_stats=True)\n",
      "    )\n",
      "  )\n",
      "  (layer3): Sequential(\n",
      "    (0): BasicBlock(\n",
      "      (conv1): Conv2d(128, 256, kernel_size=(3, 3), stride=(2, 2), padding=(1, 1), bias=False)\n",
      "      (bn1): BatchNorm2d(256, eps=1e-05, momentum=0.1, affine=True, track_running_stats=True)\n",
      "      (relu): ReLU(inplace=True)\n",
      "      (conv2): Conv2d(256, 256, kernel_size=(3, 3), stride=(1, 1), padding=(1, 1), bias=False)\n",
      "      (bn2): BatchNorm2d(256, eps=1e-05, momentum=0.1, affine=True, track_running_stats=True)\n",
      "      (downsample): Sequential(\n",
      "        (0): Conv2d(128, 256, kernel_size=(1, 1), stride=(2, 2), bias=False)\n",
      "        (1): BatchNorm2d(256, eps=1e-05, momentum=0.1, affine=True, track_running_stats=True)\n",
      "      )\n",
      "    )\n",
      "    (1): BasicBlock(\n",
      "      (conv1): Conv2d(256, 256, kernel_size=(3, 3), stride=(1, 1), padding=(1, 1), bias=False)\n",
      "      (bn1): BatchNorm2d(256, eps=1e-05, momentum=0.1, affine=True, track_running_stats=True)\n",
      "      (relu): ReLU(inplace=True)\n",
      "      (conv2): Conv2d(256, 256, kernel_size=(3, 3), stride=(1, 1), padding=(1, 1), bias=False)\n",
      "      (bn2): BatchNorm2d(256, eps=1e-05, momentum=0.1, affine=True, track_running_stats=True)\n",
      "    )\n",
      "  )\n",
      "  (layer4): Sequential(\n",
      "    (0): BasicBlock(\n",
      "      (conv1): Conv2d(256, 512, kernel_size=(3, 3), stride=(2, 2), padding=(1, 1), bias=False)\n",
      "      (bn1): BatchNorm2d(512, eps=1e-05, momentum=0.1, affine=True, track_running_stats=True)\n",
      "      (relu): ReLU(inplace=True)\n",
      "      (conv2): Conv2d(512, 512, kernel_size=(3, 3), stride=(1, 1), padding=(1, 1), bias=False)\n",
      "      (bn2): BatchNorm2d(512, eps=1e-05, momentum=0.1, affine=True, track_running_stats=True)\n",
      "      (downsample): Sequential(\n",
      "        (0): Conv2d(256, 512, kernel_size=(1, 1), stride=(2, 2), bias=False)\n",
      "        (1): BatchNorm2d(512, eps=1e-05, momentum=0.1, affine=True, track_running_stats=True)\n",
      "      )\n",
      "    )\n",
      "    (1): BasicBlock(\n",
      "      (conv1): Conv2d(512, 512, kernel_size=(3, 3), stride=(1, 1), padding=(1, 1), bias=False)\n",
      "      (bn1): BatchNorm2d(512, eps=1e-05, momentum=0.1, affine=True, track_running_stats=True)\n",
      "      (relu): ReLU(inplace=True)\n",
      "      (conv2): Conv2d(512, 512, kernel_size=(3, 3), stride=(1, 1), padding=(1, 1), bias=False)\n",
      "      (bn2): BatchNorm2d(512, eps=1e-05, momentum=0.1, affine=True, track_running_stats=True)\n",
      "    )\n",
      "  )\n",
      "  (avgpool): AdaptiveAvgPool2d(output_size=(1, 1))\n",
      "  (fc): Linear(in_features=512, out_features=10, bias=True)\n",
      ")\n"
     ]
    }
   ],
   "source": [
    "model = models.resnet18(pretrained=True)\n",
    "num_ftrs = model.fc.in_features\n",
    "model.fc = nn.Linear(num_ftrs, 10)\n",
    "device = torch.device(\"cuda\" if torch.cuda.is_available() else \"cpu\")\n",
    "model = model.to(device)\n",
    "criterion = nn.CrossEntropyLoss()\n",
    "optimizer = torch.optim.Adam(model.parameters(), lr=0.0001)\n",
    "print(model)"
   ]
  },
  {
   "cell_type": "code",
   "execution_count": null,
   "metadata": {
    "execution": {
     "iopub.execute_input": "2025-03-22T16:58:03.599960Z",
     "iopub.status.busy": "2025-03-22T16:58:03.599652Z",
     "iopub.status.idle": "2025-03-22T16:58:04.120597Z",
     "shell.execute_reply": "2025-03-22T16:58:04.119645Z",
     "shell.execute_reply.started": "2025-03-22T16:58:03.599940Z"
    },
    "trusted": true
   },
   "outputs": [],
   "source": [
    "def train_model(model, train_loader, val_loader, criterion, optimizer, device, num_epochs=10):\n",
    "    best_acc = 0.0\n",
    "    best_model_path = \"best_model.pth\"\n",
    "\n",
    "    for epoch in range(num_epochs):\n",
    "        print(f\"\\nEpoch {epoch+1}/{num_epochs}\")\n",
    "        print(\"-\" * 30)\n",
    "\n",
    "        model.train()\n",
    "        train_loss = 0.0\n",
    "        train_preds = []\n",
    "        train_labels = []\n",
    "\n",
    "        for images, labels in train_loader:\n",
    "            images, labels = images.to(device), labels.to(device)\n",
    "\n",
    "            optimizer.zero_grad()\n",
    "            outputs = model(images)\n",
    "            loss = criterion(outputs, labels)\n",
    "            loss.backward()\n",
    "            optimizer.step()\n",
    "\n",
    "            train_loss += loss.item() * images.size(0)\n",
    "            _, preds = torch.max(outputs, 1)\n",
    "            train_preds.extend(preds.cpu().numpy())\n",
    "            train_labels.extend(labels.cpu().numpy())\n",
    "\n",
    "        train_acc = accuracy_score(train_labels, train_preds)\n",
    "        train_loss /= len(train_loader.dataset)\n",
    "\n",
    "        model.eval()\n",
    "        val_loss = 0.0\n",
    "        val_preds = []\n",
    "        val_labels = []\n",
    "\n",
    "        with torch.no_grad():\n",
    "            for images, labels in val_loader:\n",
    "                images, labels = images.to(device), labels.to(device)\n",
    "                outputs = model(images)\n",
    "                loss = criterion(outputs, labels)\n",
    "\n",
    "                val_loss += loss.item() * images.size(0)\n",
    "                _, preds = torch.max(outputs, 1)\n",
    "                val_preds.extend(preds.cpu().numpy())\n",
    "                val_labels.extend(labels.cpu().numpy())\n",
    "\n",
    "        val_acc = accuracy_score(val_labels, val_preds)\n",
    "        val_loss /= len(val_loader.dataset)\n",
    "\n",
    "        print(f\"Train Loss: {train_loss:.4f}, Train Acc: {train_acc:.4f}\")\n",
    "        print(f\"Val   Loss: {val_loss:.4f}, Val   Acc: {val_acc:.4f}\")\n",
    "\n",
    "        if val_acc > best_acc:\n",
    "            best_acc = val_acc\n",
    "            torch.save(model.state_dict(), best_model_path)\n",
    "            print(\" Saved best model so far!\")\n",
    "\n",
    "    print(\"\\n Training complete. Best Val Acc: {:.4f}\".format(best_acc))\n",
    "    return best_model_path"
   ]
  },
  {
   "cell_type": "code",
   "execution_count": 7,
   "metadata": {
    "execution": {
     "iopub.execute_input": "2025-03-22T16:58:18.054578Z",
     "iopub.status.busy": "2025-03-22T16:58:18.054002Z",
     "iopub.status.idle": "2025-03-22T17:30:19.734482Z",
     "shell.execute_reply": "2025-03-22T17:30:19.733500Z",
     "shell.execute_reply.started": "2025-03-22T16:58:18.054550Z"
    },
    "trusted": true
   },
   "outputs": [
    {
     "name": "stdout",
     "output_type": "stream",
     "text": [
      "\n",
      "Epoch 1/10\n",
      "------------------------------\n",
      "Train Loss: 0.4702, Train Acc: 0.8567\n",
      "Val   Loss: 0.2896, Val   Acc: 0.9037\n",
      " Saved best model so far!\n",
      "\n",
      "Epoch 2/10\n",
      "------------------------------\n",
      "Train Loss: 0.2603, Train Acc: 0.9141\n",
      "Val   Loss: 0.2663, Val   Acc: 0.9123\n",
      " Saved best model so far!\n",
      "\n",
      "Epoch 3/10\n",
      "------------------------------\n",
      "Train Loss: 0.2100, Train Acc: 0.9297\n",
      "Val   Loss: 0.2526, Val   Acc: 0.9158\n",
      " Saved best model so far!\n",
      "\n",
      "Epoch 4/10\n",
      "------------------------------\n",
      "Train Loss: 0.1822, Train Acc: 0.9392\n",
      "Val   Loss: 0.2353, Val   Acc: 0.9211\n",
      " Saved best model so far!\n",
      "\n",
      "Epoch 5/10\n",
      "------------------------------\n",
      "Train Loss: 0.1567, Train Acc: 0.9466\n",
      "Val   Loss: 0.2378, Val   Acc: 0.9245\n",
      " Saved best model so far!\n",
      "\n",
      "Epoch 6/10\n",
      "------------------------------\n",
      "Train Loss: 0.1391, Train Acc: 0.9522\n",
      "Val   Loss: 0.2473, Val   Acc: 0.9272\n",
      " Saved best model so far!\n",
      "\n",
      "Epoch 7/10\n",
      "------------------------------\n",
      "Train Loss: 0.1195, Train Acc: 0.9590\n",
      "Val   Loss: 0.2408, Val   Acc: 0.9267\n",
      "\n",
      "Epoch 8/10\n",
      "------------------------------\n",
      "Train Loss: 0.1049, Train Acc: 0.9638\n",
      "Val   Loss: 0.2459, Val   Acc: 0.9282\n",
      " Saved best model so far!\n",
      "\n",
      "Epoch 9/10\n",
      "------------------------------\n",
      "Train Loss: 0.0959, Train Acc: 0.9671\n",
      "Val   Loss: 0.2642, Val   Acc: 0.9282\n",
      "\n",
      "Epoch 10/10\n",
      "------------------------------\n",
      "Train Loss: 0.0867, Train Acc: 0.9695\n",
      "Val   Loss: 0.2420, Val   Acc: 0.9279\n",
      "\n",
      " Training complete. Best Val Acc: 0.9282\n"
     ]
    }
   ],
   "source": [
    "best_model_path = train_model(model, train_loader, val_loader, criterion, optimizer, device, num_epochs=10)"
   ]
  },
  {
   "cell_type": "code",
   "execution_count": null,
   "metadata": {
    "execution": {
     "iopub.execute_input": "2025-03-22T18:05:57.826286Z",
     "iopub.status.busy": "2025-03-22T18:05:57.825946Z",
     "iopub.status.idle": "2025-03-22T18:06:56.313313Z",
     "shell.execute_reply": "2025-03-22T18:06:56.312234Z",
     "shell.execute_reply.started": "2025-03-22T18:05:57.826259Z"
    },
    "trusted": true
   },
   "outputs": [],
   "source": [
    "model.eval()\n",
    "class_names = ['Angioectasia', 'Bleeding', 'Erosion', 'Erythema',\n",
    "               'Foreign Body', 'Lymphangiectasia', 'Normal', 'Polyp',\n",
    "               'Ulcer', 'Worms']\n",
    "\n",
    "all_preds = []\n",
    "all_labels = []\n",
    "\n",
    "with torch.no_grad():\n",
    "    for images, labels in val_loader:\n",
    "        images = images.to(device)\n",
    "        outputs = model(images)\n",
    "        _, preds = torch.max(outputs, 1)\n",
    "        all_preds.extend(preds.cpu().numpy())\n",
    "        all_labels.extend(labels.numpy())"
   ]
  },
  {
   "cell_type": "code",
   "execution_count": null,
   "metadata": {
    "execution": {
     "iopub.execute_input": "2025-03-22T18:07:19.107599Z",
     "iopub.status.busy": "2025-03-22T18:07:19.107301Z",
     "iopub.status.idle": "2025-03-22T18:07:19.146026Z",
     "shell.execute_reply": "2025-03-22T18:07:19.145334Z",
     "shell.execute_reply.started": "2025-03-22T18:07:19.107578Z"
    },
    "trusted": true
   },
   "outputs": [
    {
     "name": "stdout",
     "output_type": "stream",
     "text": [
      "\n",
      " Classification Report:\n",
      "                  precision    recall  f1-score   support\n",
      "\n",
      "    Angioectasia       0.84      0.77      0.80       497\n",
      "        Bleeding       0.84      0.85      0.84       359\n",
      "         Erosion       0.77      0.69      0.73      1155\n",
      "        Erythema       0.58      0.49      0.53       297\n",
      "    Foreign Body       0.86      0.86      0.86       340\n",
      "Lymphangiectasia       0.94      0.76      0.84       343\n",
      "          Normal       0.96      0.99      0.98     12287\n",
      "           Polyp       0.72      0.67      0.70       500\n",
      "           Ulcer       0.98      0.94      0.96       286\n",
      "           Worms       0.94      0.97      0.96        68\n",
      "\n",
      "        accuracy                           0.93     16132\n",
      "       macro avg       0.84      0.80      0.82     16132\n",
      "    weighted avg       0.93      0.93      0.93     16132\n",
      "\n"
     ]
    }
   ],
   "source": [
    "print(\"\\n Classification Report:\")\n",
    "print(classification_report(all_labels, all_preds, target_names=class_names))"
   ]
  },
  {
   "cell_type": "code",
   "execution_count": null,
   "metadata": {
    "execution": {
     "iopub.execute_input": "2025-03-22T18:06:56.360930Z",
     "iopub.status.busy": "2025-03-22T18:06:56.360638Z",
     "iopub.status.idle": "2025-03-22T18:06:56.932295Z",
     "shell.execute_reply": "2025-03-22T18:06:56.931448Z",
     "shell.execute_reply.started": "2025-03-22T18:06:56.360908Z"
    },
    "trusted": true
   },
   "outputs": [
    {
     "data": {
      "image/png": "[encoded data removed]",
      "text/plain": [
       "<Figure size 1000x800 with 2 Axes>"
      ]
     },
     "metadata": {},
     "output_type": "display_data"
    }
   ],
   "source": [
    "conf_matrix = confusion_matrix(all_labels, all_preds)\n",
    "plt.figure(figsize=(10, 8))\n",
    "sns.heatmap(conf_matrix, annot=True, fmt='d', cmap='Blues',\n",
    "            xticklabels=class_names, yticklabels=class_names)\n",
    "plt.xlabel(\"Predicted\")\n",
    "plt.ylabel(\"Actual\")\n",
    "plt.title(\"Confusion Matrix\")\n",
    "plt.show()"
   ]
  },
  {
   "cell_type": "code",
   "execution_count": null,
   "metadata": {
    "execution": {
     "iopub.execute_input": "2025-03-22T18:14:42.780498Z",
     "iopub.status.busy": "2025-03-22T18:14:42.780171Z",
     "iopub.status.idle": "2025-03-22T18:15:40.276052Z",
     "shell.execute_reply": "2025-03-22T18:15:40.275024Z",
     "shell.execute_reply.started": "2025-03-22T18:14:42.780477Z"
    },
    "trusted": true
   },
   "outputs": [
    {
     "name": "stdout",
     "output_type": "stream",
     "text": [
      "\n",
      " Mean AUC (Macro) on Validation Set: 0.9909\n"
     ]
    }
   ],
   "source": [
    "all_probs = []\n",
    "all_true = []\n",
    "\n",
    "model.eval()\n",
    "with torch.no_grad():\n",
    "    for images, labels in val_loader:\n",
    "        images = images.to(device)\n",
    "        outputs = model(images)\n",
    "        probs = F.softmax(outputs, dim=1)\n",
    "\n",
    "        all_probs.append(probs.cpu().numpy())\n",
    "        all_true.append(labels.cpu().numpy())\n",
    "\n",
    "all_probs = np.vstack(all_probs)\n",
    "all_true = np.hstack(all_true)\n",
    "n_classes = 10\n",
    "true_one_hot = np.zeros((len(all_true), n_classes))\n",
    "true_one_hot[np.arange(len(all_true)), all_true] = 1\n",
    "\n",
    "mean_auc = roc_auc_score(true_one_hot, all_probs, average=\"macro\")\n",
    "print(f\"\\n Mean AUC (Macro) on Validation Set: {mean_auc:.4f}\")"
   ]
  }
 ],
 "metadata": {
  "kaggle": {
   "accelerator": "nvidiaTeslaT4",
   "dataSources": [
    {
     "datasetId": 5570165,
     "sourceId": 9211836,
     "sourceType": "datasetVersion"
    }
   ],
   "dockerImageVersionId": 30919,
   "isGpuEnabled": true,
   "isInternetEnabled": true,
   "language": "python",
   "sourceType": "notebook"
  },
  "kernelspec": {
   "display_name": "Python 3",
   "language": "python",
   "name": "python3"
  },
  "language_info": {
   "codemirror_mode": {
    "name": "ipython",
    "version": 3
   },
   "file_extension": ".py",
   "mimetype": "text/x-python",
   "name": "python",
   "nbconvert_exporter": "python",
   "pygments_lexer": "ipython3",
   "version": "3.10.12"
  }
 },
 "nbformat": 4,
 "nbformat_minor": 4
}
